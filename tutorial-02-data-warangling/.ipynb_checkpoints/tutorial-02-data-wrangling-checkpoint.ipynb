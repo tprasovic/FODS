{
 "cells": [
  {
   "cell_type": "markdown",
   "metadata": {},
   "source": [
    "<div>\n",
    "<img src=\"data:image/png;base64,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\" width=\"200\" align=\"right\"/>\n",
    "    <img src=\"https://encrypted-tbn0.gstatic.com/images?q=tbn:ANd9GcQe1ZHapHvYNyrCLtdygLfLu92gN3ztZ64m9U8eNLeYE5BKY7r9wJiBgH7cnhZ7B269qw&usqp=CAU\" width=\"300\" align=\"left\" style=\"display: inline;\"/>\n",
    "    <div ><h1 style=\"display: inline;\"><br/>Foundations of Data Science </h1></div>\n",
    " </div>\n",
    "\n",
    " "
   ]
  },
  {
   "cell_type": "markdown",
   "metadata": {},
   "source": [
    "# Week 2: Data wrangling\n",
    "\n",
    "The aim of this tutorial is to familiarise yourself with common `python`, and in particular `pandas`, commands that you will need to inspect and \"wrangle\" a new data set.\n",
    "\n",
    "After this tutorial, you should be able to\n",
    "- use `pandas` commands like `shape()`, `unique()`, `groupby()`, `min()`, `value_counts()`, to interact with and glean basic information from a data set;\n",
    "- use `seaborn` to create simple plots of your data, and save these for later use;\n",
    "- identify missing data, for example using `panda`'s `isna()`, and propose a strategy to deal with it. \n",
    "\n",
    "In this tutorial, we will use a data set on HIV-AIDS (Source: http://aidsinfo.unaids.org/, https://think.cs.vt.edu/corgis/csv/aids/). The data set records public health metrics for $89$ countries over time.\n",
    "\n",
    "Before starting to analyse data, it can be helpful to briefly think about what you expect to see based on the (brief) description provided with the data set. What kind of information would you expect to see? How would you expect this information to be arranged?\n",
    "\n",
    "### 1. import packages and load data"
   ]
  },
  {
   "cell_type": "code",
   "metadata": {},
   "source": [
    "import matplotlib.pyplot as plt\n",
    "import pandas as pd\n",
    "import seaborn as sns"
   ],
   "outputs": [],
   "execution_count": null
  },
  {
   "cell_type": "markdown",
   "metadata": {},
   "source": [
    "Depending on how (modality, file type, ...), and where your data is stored, data loading can be very straightforward. In this course, you'll mostly be provided with `.csv` files which are small enough to be stored locally and loaded into memory. "
   ]
  },
  {
   "cell_type": "code",
   "metadata": {},
   "source": [
    "data = pd.read_csv(\"./aids.csv\", index_col=0) # Note the use of a relative path!"
   ],
   "outputs": [],
   "execution_count": null
  },
  {
   "cell_type": "markdown",
   "metadata": {},
   "source": [
    "### 2. inspect data\n",
    "\n",
    "What do you think is important to first check when you start to work with a new data set? "
   ]
  },
  {
   "cell_type": "code",
   "metadata": {},
   "source": [
    "data.dtypes"
   ],
   "outputs": [],
   "execution_count": null
  },
  {
   "cell_type": "markdown",
   "metadata": {},
   "source": [
    "Have you observed anything unsual so far? Hint: What data type would you expect to see for any *AIDS-Related Deaths* column? Why?"
   ]
  },
  {
   "cell_type": "code",
   "metadata": {},
   "source": [
    "data.head(10)"
   ],
   "outputs": [],
   "execution_count": null
  },
  {
   "cell_type": "markdown",
   "metadata": {},
   "source": [
    "Looking at just the first few rows of the data, do you observe anything unexpected? If yes, can you think of an explanation for this observation?\n",
    "\n",
    "As you already know that the dataset should contain country-level information recorded over time, it might be a good idea to check what countries are represented, and for which period of time."
   ]
  },
  {
   "cell_type": "code",
   "metadata": {},
   "source": [
    "# which countries are represneted in the data set?"
   ],
   "outputs": [],
   "execution_count": null
  },
  {
   "cell_type": "code",
   "metadata": {},
   "source": [
    "# how many countries are represented?"
   ],
   "outputs": [],
   "execution_count": null
  },
  {
   "cell_type": "code",
   "metadata": {},
   "source": [
    "# for which time period is data available?"
   ],
   "outputs": [],
   "execution_count": null
  },
  {
   "cell_type": "markdown",
   "metadata": {},
   "source": [
    "Having found out these two pieces of information, how would you sort the data?"
   ]
  },
  {
   "cell_type": "code",
   "metadata": {},
   "source": [
    "data_sorted = data.sort_values(\n",
    "    by=[\n",
    "        # ??? \n",
    "    ]\n",
    ")"
   ],
   "outputs": [],
   "execution_count": null
  },
  {
   "cell_type": "code",
   "metadata": {},
   "source": [
    "data_sorted.head(10)"
   ],
   "outputs": [],
   "execution_count": null
  },
  {
   "cell_type": "markdown",
   "metadata": {},
   "source": [
    "It's also important to check your data's integrity before analysing it. What potential issues can you think of that would affect your analysis?"
   ]
  },
  {
   "cell_type": "code",
   "metadata": {},
   "source": [
    "# check for ... ?"
   ],
   "outputs": [],
   "execution_count": null
  },
  {
   "cell_type": "markdown",
   "metadata": {},
   "source": [
    "What does the above result imply? How would you propose to proceed? If you're unsure how to interpret the output of `duplicated()`, you can check the [documentation](https://pandas.pydata.org/pandas-docs/stable/reference/api/pandas.DataFrame.duplicated.html)."
   ]
  },
  {
   "cell_type": "code",
   "metadata": {},
   "source": [
    "data_cleaned = ###"
   ],
   "outputs": [],
   "execution_count": null
  },
  {
   "cell_type": "markdown",
   "metadata": {},
   "source": [
    "When you start to work with a new data set, an essential step is to check for missing values."
   ]
  },
  {
   "cell_type": "code",
   "metadata": {},
   "source": [
    "# how do you check for missing values?"
   ],
   "outputs": [],
   "execution_count": null
  },
  {
   "cell_type": "code",
   "metadata": {},
   "source": [
    "# how can you easily aggregate this information per patient?"
   ],
   "outputs": [],
   "execution_count": null
  },
  {
   "cell_type": "markdown",
   "metadata": {},
   "source": [
    "Based on the previous aggregation of row-level information for duplicates, how would you quickly check if there are any missing values in this data set?"
   ]
  },
  {
   "cell_type": "code",
   "metadata": {},
   "source": [
    "# and how across the entire data set?"
   ],
   "outputs": [],
   "execution_count": null
  },
  {
   "cell_type": "markdown",
   "metadata": {},
   "source": [
    "Luckily, there doesn't seem to be any missing values. That's unlikely to always be the case in real-world data though.\n",
    "\n",
    "Another important command to be aware of is [`groupby()`](https://pandas.pydata.org/pandas-docs/stable/reference/api/pandas.DataFrame.groupby.html), which allows you to apply a function or perform a computation for a particular view of a `DataFrame`. For example, if we want to compute the total number of children orphaned due to AIDS for every country, we can use the following command:"
   ]
  },
  {
   "cell_type": "code",
   "metadata": {},
   "source": [
    "data.groupby(\"Country\")[\"Data.AIDS-Related Deaths.AIDS Orphans\"].sum()"
   ],
   "outputs": [],
   "execution_count": null
  },
  {
   "cell_type": "markdown",
   "metadata": {},
   "source": [
    "...or alternatively the average HIV prevalence for every year:"
   ]
  },
  {
   "cell_type": "code",
   "metadata": {},
   "source": [
    "data.groupby(\"Year\")[\"Data.HIV Prevalence.Adults\"].mean()"
   ],
   "outputs": [],
   "execution_count": null
  },
  {
   "cell_type": "markdown",
   "metadata": {},
   "source": [
    "### 3. visualise data\n",
    "\n",
    "While visualisation of data will be covered in more detail in the next lecture and tutorial, another essential step in a first glimpse at any data set is some basic visualisation. `seaborn` and `maptlotlib` provide a lot of functionality to do just that with very little effort.\n",
    "\n",
    "Let's start with a simple plot of the distribution of AIDS-related deaths across all age groups."
   ]
  },
  {
   "cell_type": "code",
   "metadata": {},
   "source": [
    "sns.displot(\n",
    "    x=\"Data.AIDS-Related Deaths.All Ages\",\n",
    "    data=data\n",
    ")\n",
    "plt.show()"
   ],
   "outputs": [],
   "execution_count": null
  },
  {
   "cell_type": "markdown",
   "metadata": {},
   "source": [
    "Is it meaningful to plot the data like this? Why/why not?"
   ]
  },
  {
   "cell_type": "code",
   "metadata": {},
   "source": [
    "year = 2000\n",
    "fig_by_year = sns.histplot(\n",
    "    x=\"Data.AIDS-Related Deaths.All Ages\",\n",
    "    data=data[data[\"Year\"] == year],\n",
    "    binwidth=500\n",
    ")\n",
    "fig_by_year.set_title(f\"Distribution of AIDS-related deaths in {year}\")\n",
    "fig_by_year.set_xlabel(\"Number of AIDS-related deaths\")\n",
    "plt.show()"
   ],
   "outputs": [],
   "execution_count": null
  },
  {
   "cell_type": "markdown",
   "metadata": {},
   "source": [
    "Likely, considering the time dimension of the data set at hand is important -- you can, for example, identifiy trends this way."
   ]
  },
  {
   "cell_type": "code",
   "metadata": {},
   "source": [
    "fig_over_time = sns.lineplot(\n",
    "    x=\"Year\",\n",
    "    y=\"Data.AIDS-Related Deaths.All Ages\",\n",
    "    data=data,\n",
    ")\n",
    "fig_over_time.set(\n",
    "    xlabel=\"Year\",\n",
    "    ylabel=\"Average Number of AIDS-Related Deaths\",\n",
    "    title=(f\"AIDS-Related deaths for {data['Country'].unique().shape[0]} countries in the period \" +\n",
    "           f\"between {data['Year'].min()} and {data['Year'].max()}\")\n",
    ")\n",
    "plt.show()"
   ],
   "outputs": [],
   "execution_count": null
  },
  {
   "cell_type": "markdown",
   "metadata": {},
   "source": [
    "An alternative way to look at the data is at the country level. "
   ]
  },
  {
   "cell_type": "code",
   "metadata": {},
   "source": [
    "country = \"South Africa\"\n",
    "fig_by_country = sns.scatterplot(\n",
    "    x=\"Year\",\n",
    "    y=\"Data.People Living with HIV.Total\",\n",
    "    data=data[data[\"Country\"] == country]\n",
    ")\n",
    "fig_by_country.set_title(\"Number of people living with HIV in  \" + country)\n",
    "fig_by_country.set_ylabel(\"Number of people\")\n",
    "plt.savefig(\"./number-of-people-with-HIV.png\")"
   ],
   "outputs": [],
   "execution_count": null
  },
  {
   "cell_type": "code",
   "metadata": {},
   "source": [
    "country = \"South Africa\"\n",
    "fig_by_country = sns.lineplot(\n",
    "    x=\"Year\",\n",
    "    y=\"values\",\n",
    "    hue=\"column\",\n",
    "    data=data[\n",
    "        data[\"Country\"] == country # subset for country\n",
    "    ].loc[\n",
    "        :, \n",
    "        [\"Year\"] + [\n",
    "            \"Data.People Living with HIV.Male Adults\",\n",
    "            \"Data.People Living with HIV.Female Adults\",\n",
    "            \"Data.People Living with HIV.Children\",\n",
    "            \"Data.People Living with HIV.Total\",\n",
    "        ]\n",
    "    ].melt(\n",
    "        \"Year\", var_name=\"column\", value_name=\"values\"\n",
    "    )\n",
    ")\n",
    "fig_by_country.set_title(\"Number of people living with HIV in  \" + country)\n",
    "fig_by_country.set_ylabel(\"Number of people\")\n",
    "fig_by_country.legend(\n",
    "    fig_by_country.get_legend_handles_labels()[0],\n",
    "    [lbl.split(\".\")[-1] for lbl in fig_by_country.get_legend_handles_labels()[1]]\n",
    ")\n",
    "plt.show()"
   ],
   "outputs": [],
   "execution_count": null
  }
 ],
 "metadata": {
  "kernelspec": {
   "display_name": "Python 3 (ipykernel)",
   "language": "python",
   "name": "python3"
  },
  "language_info": {
   "codemirror_mode": {
    "name": "ipython",
    "version": 3
   },
   "file_extension": ".py",
   "mimetype": "text/x-python",
   "name": "python",
   "nbconvert_exporter": "python",
   "pygments_lexer": "ipython3",
   "version": "3.8.18"
  }
 },
 "nbformat": 4,
 "nbformat_minor": 4
}
